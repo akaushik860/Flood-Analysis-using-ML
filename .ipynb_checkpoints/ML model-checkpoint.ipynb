{
 "cells": [
  {
   "cell_type": "code",
   "execution_count": null,
   "metadata": {},
   "outputs": [],
   "source": [
    "import pandas as pd\n",
    "import matplotlib.pyplot as plt"
   ]
  },
  {
   "cell_type": "code",
   "execution_count": null,
   "metadata": {},
   "outputs": [],
   "source": [
    "import numpy as np\n",
    "x=pd.read_csv(\"C:\\\\Users\\\\Chitragupta Anubhav\\\\Documents\\\\Minor_Project\\\\kerala.csv\")\n",
    "y=pd.read_csv(\"C:\\\\Users\\\\Chitragupta Anubhav\\\\Documents\\\\Minor_Project\\\\kerala.csv\")\n",
    "\n",
    "y1=list(x[\"YEAR\"])\n",
    "x1=list(x[\"Jun-Sep\"])\n",
    "z1=list(x[\"JUN\"])\n",
    "w1=list(x[\"MAY\"])\n",
    "\n",
    "plt.plot(y1, x1,'*')\n",
    "plt.show()"
   ]
  },
  {
   "cell_type": "code",
   "execution_count": null,
   "metadata": {},
   "outputs": [],
   "source": [
    "flood=[]\n",
    "june=[]\n",
    "sub=[]\n",
    "\n",
    "#CREATING A NEW COLOUMN WITH BINARY CLASSIFICATION DEPENDING IF THAT YEAR HAD FLOODED OR NOT, USING RAINFALL OF THAT YEAR AS THRESHOLD\n",
    "#print(x1[114])\n",
    "for i in range(0,len(x1)):\n",
    "    if x1[i]>2400:\n",
    "        flood.append('1')\n",
    "    else:\n",
    "        flood.append('0')\n",
    "\n",
    "#print(len(x1))\n",
    "\n",
    "#APPROAXIMATELY FINDING THE RAINFALL DATA FOR 10 DAYS FOR THE MONTH OF JUNE IN EVERY YEAR FROM 1901 TO 2017\n",
    "for k in range(0,len(x1)):\n",
    "    june.append(z1[k]/3)\n",
    "\n",
    "#FINDING THE INCREASE IN RAINFALL FROM THE MONTH OF MAY TO THE MONTH OF JUNE IN EVERY YEAR FROM 1901 TO 2017\n",
    "for k in range(0,len(x1)):\n",
    "    sub.append(abs(w1[k]-z1[k]))\n",
    "\n",
    "\n",
    "df = pd.DataFrame({'flood':flood})\n",
    "df1=pd.DataFrame({'per_10_days':june})\n",
    "\n",
    "x[\"flood\"]=flood\n",
    "x[\"avgjune\"]=june\n",
    "x[\"sub\"]=sub\n",
    "\n",
    "#SAVING THE NEW CSV FILE WITH THE NEW COLOUMNS\n",
    "x.to_csv(\"out1.csv\")\n",
    "print((x))\n",
    "        \n",
    "        \n",
    "      \n",
    "\n",
    "\n"
   ]
  },
  {
   "cell_type": "code",
   "execution_count": null,
   "metadata": {},
   "outputs": [],
   "source": [
    "\n"
   ]
  },
  {
   "cell_type": "code",
   "execution_count": null,
   "metadata": {},
   "outputs": [],
   "source": [
    "import scipy \n",
    "from scipy.stats import spearmanr\n",
    "\n",
    "from sklearn.ensemble import RandomForestClassifier\n",
    "from sklearn.preprocessing import scale\n",
    "from sklearn.linear_model import LogisticRegression\n",
    "from sklearn.model_selection import train_test_split\n",
    "from sklearn import preprocessing"
   ]
  },
  {
   "cell_type": "code",
   "execution_count": null,
   "metadata": {},
   "outputs": [],
   "source": [
    "\n",
    "\n",
    "#TAKING THE COLOUMNS WHICH ARE TO USED FOR TRAINING THE MODEL\n",
    "#16 MAR-MAY\n",
    "#20- AVG OF 10 DAYS JUNE \n",
    "#21- DIFFERENCE OF RAINFALL FROM MAY TO JUNE\n",
    "#19 - BINARY CLASS OF FLOOD- 0 OR 1\n",
    "#MORE DATA CAN BE ADDED FOR TRAINING, BY JUST ADDING MORE NUMBER OF COLOUMNS FROM THE CSV FILE\n",
    "\n",
    "#WE USE LOGISTIC REGRESSION FOR TRAINING\n",
    "\n",
    "X = x.iloc[:,[16,20,21]].values\n",
    "y1=x.iloc[:,19].values\n",
    "\n",
    "(X_train, X_test, Y_train, Y_test) = train_test_split(X, y1, random_state=0)\n",
    "\n",
    "\n",
    "#X1= scale(X)\n",
    "#print(X1)\n",
    "\n",
    "Lr=LogisticRegression()\n",
    "\n",
    "Lr.fit(X,y1)\n",
    "print(Lr.score(X,y1))  # PRINTS THE ACCURACY\n",
    "#ypred=Lr.score(X_test,Y_test)\n",
    "#print(ypred)\n",
    "\n",
    "\n",
    "\n",
    "\n"
   ]
  },
  {
   "cell_type": "code",
   "execution_count": null,
   "metadata": {},
   "outputs": [],
   "source": [
    "\n",
    "l=[[50,300,205]]\n",
    "\n",
    "#print(X)\n",
    "\n",
    "#ypred=Lr.predict(X)\n",
    "f1=Lr.predict(l)\n",
    "\n",
    "for i in range(len(f1)):\n",
    "\n",
    "    if (int(f1[i])==1):\n",
    "        print(f1[i],\"- possibility of  severe flood\")\n",
    "    else:\n",
    "        print(f1[i],\"- no chance of severe flood\")\n",
    "    \n",
    "    "
   ]
  },
  {
   "cell_type": "code",
   "execution_count": null,
   "metadata": {},
   "outputs": [],
   "source": []
  },
  {
   "cell_type": "code",
   "execution_count": null,
   "metadata": {},
   "outputs": [],
   "source": []
  }
 ],
 "metadata": {
  "kernelspec": {
   "display_name": "Python 3 (ipykernel)",
   "language": "python",
   "name": "python3"
  },
  "language_info": {
   "codemirror_mode": {
    "name": "ipython",
    "version": 3
   },
   "file_extension": ".py",
   "mimetype": "text/x-python",
   "name": "python",
   "nbconvert_exporter": "python",
   "pygments_lexer": "ipython3",
   "version": "3.9.7"
  }
 },
 "nbformat": 4,
 "nbformat_minor": 2
}
