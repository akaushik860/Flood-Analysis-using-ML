{
 "cells": [
  {
   "cell_type": "code",
   "execution_count": 1,
   "metadata": {},
   "outputs": [],
   "source": [
    "import pandas as pd\n",
    "import matplotlib.pyplot as plt"
   ]
  },
  {
   "cell_type": "code",
   "execution_count": 4,
   "metadata": {},
   "outputs": [
    {
     "data": {
      "image/png": "[encoded data removed]",
      "text/plain": [
       "<Figure size 432x288 with 1 Axes>"
      ]
     },
     "metadata": {
      "needs_background": "light"
     },
     "output_type": "display_data"
    }
   ],
   "source": [
    "import numpy as np\n",
    "x=pd.read_csv(\"C:\\\\Users\\\\KAUSHIK\\\\Downloads\\\\Minor_Project-main\\\\States\\\\kerala.csv\")\n",
    "y=pd.read_csv(\"C:\\\\Users\\\\KAUSHIK\\\\Downloads\\\\Minor_Project-main\\\\States\\\\kerala.csv\")\n",
    "\n",
    "y1=list(x[\"YEAR\"])\n",
    "x1=list(x[\"Jun-Sep\"])\n",
    "z1=list(x[\"JUN\"])\n",
    "w1=list(x[\"MAY\"])\n",
    "\n",
    "plt.plot(y1, x1,'*')\n",
    "plt.show()"
   ]
  },
  {
   "cell_type": "code",
   "execution_count": 5,
   "metadata": {},
   "outputs": [
    {
     "name": "stdout",
     "output_type": "stream",
     "text": [
      "    SUBDIVISION  YEAR   JAN   FEB   MAR    APR    MAY     JUN     JUL    AUG  \\\n",
      "0        Kerala  1901  28.7  44.7  51.6  160.0  174.7   824.6   743.0  357.5   \n",
      "1        Kerala  1902   6.7   2.6  57.3   83.9  134.5   390.9  1205.0  315.8   \n",
      "2        Kerala  1903   3.2  18.6   3.1   83.6  249.7   558.6  1022.5  420.2   \n",
      "3        Kerala  1904  23.7   3.0  32.2   71.5  235.7  1098.2   725.5  351.8   \n",
      "4        Kerala  1905   1.2  22.3   9.4  105.9  263.3   850.2   520.5  293.6   \n",
      "..          ...   ...   ...   ...   ...    ...    ...     ...     ...    ...   \n",
      "112      Kerala  2013   3.9  40.1  49.9   49.3  119.3  1042.7   830.2  369.7   \n",
      "113      Kerala  2014   4.6  10.3  17.9   95.7  251.0   454.4   677.8  733.9   \n",
      "114      Kerala  2015   3.1   5.8  50.1  214.1  201.8   563.6   406.0  252.2   \n",
      "115      Kerala  2016   3.0  16.4  22.4   33.3  258.4   595.7   441.5  231.0   \n",
      "116      Kerala  2017  12.7   0.3  87.8   52.8  213.3   579.8   378.5  462.6   \n",
      "\n",
      "     ...    NOV    DEC  ANNUAL  Jan-Feb  Mar-May  Jun-Sep  Oct-Dec  flood  \\\n",
      "0    ...  350.8   48.4  3248.6     73.4    386.2   2122.8    666.1      0   \n",
      "1    ...  158.3  121.5  3326.6      9.3    275.7   2403.4    638.2      1   \n",
      "2    ...  157.0   59.0  3271.2     21.7    336.3   2343.0    570.1      0   \n",
      "3    ...   33.9    3.3  3129.7     26.7    339.4   2398.2    365.3      0   \n",
      "4    ...   74.4    0.2  2741.6     23.4    378.5   1881.5    458.1      0   \n",
      "..   ...    ...    ...     ...      ...      ...      ...      ...    ...   \n",
      "112  ...  154.9   17.0  3255.4     43.9    218.5   2561.2    431.8      1   \n",
      "113  ...   99.5   47.2  3046.4     14.9    364.5   2164.8    502.1      0   \n",
      "114  ...  223.6   79.4  2600.6      8.9    465.9   1514.7    611.1      0   \n",
      "115  ...   57.9   22.0  1870.9     19.3    314.2   1352.3    185.0      0   \n",
      "116  ...  152.1   61.4  2664.9     13.0    353.9   1856.5    441.5      0   \n",
      "\n",
      "        avgjune    sub  \n",
      "0    274.866667  649.9  \n",
      "1    130.300000  256.4  \n",
      "2    186.200000  308.9  \n",
      "3    366.066667  862.5  \n",
      "4    283.400000  586.9  \n",
      "..          ...    ...  \n",
      "112  347.566667  923.4  \n",
      "113  151.466667  203.4  \n",
      "114  187.866667  361.8  \n",
      "115  198.566667  337.3  \n",
      "116  193.266667  366.5  \n",
      "\n",
      "[117 rows x 22 columns]\n"
     ]
    }
   ],
   "source": [
    "flood=[]\n",
    "june=[]\n",
    "sub=[]\n",
    "\n",
    "#CREATING A NEW COLOUMN WITH BINARY CLASSIFICATION DEPENDING IF THAT YEAR HAD FLOODED OR NOT, USING RAINFALL OF THAT YEAR AS THRESHOLD\n",
    "#print(x1[114])\n",
    "for i in range(0,len(x1)):\n",
    "    if x1[i]>2400:\n",
    "        flood.append('1')\n",
    "    else:\n",
    "        flood.append('0')\n",
    "\n",
    "#print(len(x1))\n",
    "\n",
    "#APPROAXIMATELY FINDING THE RAINFALL DATA FOR 10 DAYS FOR THE MONTH OF JUNE IN EVERY YEAR FROM 1901 TO 2017\n",
    "for k in range(0,len(x1)):\n",
    "    june.append(z1[k]/3)\n",
    "\n",
    "#FINDING THE INCREASE IN RAINFALL FROM THE MONTH OF MAY TO THE MONTH OF JUNE IN EVERY YEAR FROM 1901 TO 2017\n",
    "for k in range(0,len(x1)):\n",
    "    sub.append(abs(w1[k]-z1[k]))\n",
    "\n",
    "\n",
    "df = pd.DataFrame({'flood':flood})\n",
    "df1=pd.DataFrame({'per_10_days':june})\n",
    "\n",
    "x[\"flood\"]=flood\n",
    "x[\"avgjune\"]=june\n",
    "x[\"sub\"]=sub\n",
    "\n",
    "#SAVING THE NEW CSV FILE WITH THE NEW COLOUMNS\n",
    "x.to_csv(\"out1.csv\")\n",
    "print((x))\n",
    "        \n",
    "        \n",
    "      \n",
    "\n",
    "\n"
   ]
  },
  {
   "cell_type": "code",
   "execution_count": null,
   "metadata": {},
   "outputs": [],
   "source": [
    "\n"
   ]
  },
  {
   "cell_type": "code",
   "execution_count": 6,
   "metadata": {},
   "outputs": [],
   "source": [
    "import scipy \n",
    "from scipy.stats import spearmanr\n",
    "\n",
    "from sklearn.ensemble import RandomForestClassifier\n",
    "from sklearn.preprocessing import scale\n",
    "from sklearn.linear_model import LogisticRegression\n",
    "from sklearn.model_selection import train_test_split\n",
    "from sklearn import preprocessing"
   ]
  },
  {
   "cell_type": "code",
   "execution_count": 7,
   "metadata": {},
   "outputs": [
    {
     "name": "stdout",
     "output_type": "stream",
     "text": [
      "0.8632478632478633\n"
     ]
    }
   ],
   "source": [
    "\n",
    "\n",
    "#TAKING THE COLOUMNS WHICH ARE TO USED FOR TRAINING THE MODEL\n",
    "#16 MAR-MAY\n",
    "#20- AVG OF 10 DAYS JUNE \n",
    "#21- DIFFERENCE OF RAINFALL FROM MAY TO JUNE\n",
    "#19 - BINARY CLASS OF FLOOD- 0 OR 1\n",
    "#MORE DATA CAN BE ADDED FOR TRAINING, BY JUST ADDING MORE NUMBER OF COLOUMNS FROM THE CSV FILE\n",
    "\n",
    "#WE USE LOGISTIC REGRESSION FOR TRAINING\n",
    "\n",
    "X = x.iloc[:,[16,20,21]].values\n",
    "y1=x.iloc[:,19].values\n",
    "\n",
    "(X_train, X_test, Y_train, Y_test) = train_test_split(X, y1, random_state=0)\n",
    "\n",
    "\n",
    "#X1= scale(X)\n",
    "#print(X1)\n",
    "\n",
    "Lr=LogisticRegression()\n",
    "\n",
    "Lr.fit(X,y1)\n",
    "print(Lr.score(X,y1))  # PRINTS THE ACCURACY\n",
    "#ypred=Lr.score(X_test,Y_test)\n",
    "#print(ypred)\n",
    "\n",
    "\n",
    "\n",
    "\n"
   ]
  },
  {
   "cell_type": "code",
   "execution_count": 8,
   "metadata": {},
   "outputs": [
    {
     "name": "stdout",
     "output_type": "stream",
     "text": [
      "0 - no chance of severe flood\n"
     ]
    }
   ],
   "source": [
    "\n",
    "l=[[50,300,205]]\n",
    "\n",
    "#print(X)\n",
    "\n",
    "#ypred=Lr.predict(X)\n",
    "f1=Lr.predict(l)\n",
    "\n",
    "for i in range(len(f1)):\n",
    "\n",
    "    if (int(f1[i])==1):\n",
    "        print(f1[i],\"- possibility of  severe flood\")\n",
    "    else:\n",
    "        print(f1[i],\"- no chance of severe flood\")\n",
    "    \n",
    "    "
   ]
  },
  {
   "cell_type": "code",
   "execution_count": null,
   "metadata": {},
   "outputs": [],
   "source": []
  },
  {
   "cell_type": "code",
   "execution_count": null,
   "metadata": {},
   "outputs": [],
   "source": []
  },
  {
   "cell_type": "code",
   "execution_count": null,
   "metadata": {},
   "outputs": [],
   "source": []
  },
  {
   "cell_type": "code",
   "execution_count": null,
   "metadata": {},
   "outputs": [],
   "source": []
  },
  {
   "cell_type": "code",
   "execution_count": null,
   "metadata": {},
   "outputs": [],
   "source": []
  },
  {
   "cell_type": "code",
   "execution_count": null,
   "metadata": {},
   "outputs": [],
   "source": []
  },
  {
   "cell_type": "code",
   "execution_count": null,
   "metadata": {},
   "outputs": [],
   "source": []
  },
  {
   "cell_type": "code",
   "execution_count": null,
   "metadata": {},
   "outputs": [],
   "source": []
  },
  {
   "cell_type": "code",
   "execution_count": null,
   "metadata": {},
   "outputs": [],
   "source": []
  }
 ],
 "metadata": {
  "kernelspec": {
   "display_name": "Python 3 (ipykernel)",
   "language": "python",
   "name": "python3"
  },
  "language_info": {
   "codemirror_mode": {
    "name": "ipython",
    "version": 3
   },
   "file_extension": ".py",
   "mimetype": "text/x-python",
   "name": "python",
   "nbconvert_exporter": "python",
   "pygments_lexer": "ipython3",
   "version": "3.9.7"
  }
 },
 "nbformat": 4,
 "nbformat_minor": 2
}
